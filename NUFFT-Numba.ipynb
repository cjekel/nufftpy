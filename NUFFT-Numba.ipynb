{
 "cells": [
  {
   "cell_type": "markdown",
   "metadata": {},
   "source": [
    "# Optimizing Python in the Real World: NumPy, Numba, & the NUFFT"
   ]
  },
  {
   "cell_type": "markdown",
   "metadata": {},
   "source": [
    "*This notebook originally appeared as a [post](http://jakevdp.github.io/blog/2015/02/24/optimizing-python-with-numpy-and-numba/) on the blog [Pythonic Perambulations](http://jakevdp.github.io). The content is BSD licensed.\n",
    "A github repo with some of the code appearing below can be found at http://github.com/jakevdp/nufftpy/.*"
   ]
  },
  {
   "cell_type": "markdown",
   "metadata": {},
   "source": [
    "<!-- PELICAN_BEGIN_SUMMARY -->\n",
    "\n",
    "Donald Knuth famously quipped that \"premature optimization is the root of all evil.\"\n",
    "The reasons are straightforward: optimized code tends to be much more difficult to read and debug than simpler implementations of the same algorithm, and optimizing too early leads to greater costs down the road.\n",
    "In the Python world, there is another cost to optimization: optimized code often is written in a compiled language like Fortran or C, and this leads to barriers to its development, use, and deployment.\n",
    "\n",
    "Too often, tutorials about optimizing Python use trivial or toy examples which may not map well to the real world.\n",
    "I've certainly been [guilty](https://jakevdp.github.io/blog/2012/08/24/numba-vs-cython/) of this [myself](https://jakevdp.github.io/blog/2013/06/15/numba-vs-cython-take-2/).\n",
    "Here, I'm going to take a different route: in this post I will outline the process of understanding, implementing, and optimizing a non-trivial algorithm in Python, in this case the [Non-uniform Fast Fourier Transform](http://www.cims.nyu.edu/cmcl/nufft/nufft.html) (NUFFT).\n",
    "Along the way, we'll dig into the process of optimizing Python code, and see how a relatively straightforward pure Python implementation, with a little help from [Numba](http://numba.pydata.org), can be made to nearly match the performance of a highly-optimized Fortran implementation of the same algorithm.\n",
    "\n",
    "<!-- PELICAN_END_SUMMARY -->"
   ]
  },
  {
   "cell_type": "markdown",
   "metadata": {},
   "source": [
    "## Why a Python Implementation?\n",
    "\n",
    "First, I want to answer the inevitable question: why spend the time to make a Python implementation of an algorithm that's already out there in Fortran?\n",
    "The reason is that I've found in my research and teaching that pure-Python implementations of algorithms are far more valuable than C or Fortran implementations, even if they might be a bit slower.\n",
    "This is for a number of reasons:\n",
    "\n",
    "- **Pure-Python code is easier to read, understand, and contribute to.** Good Python implementations are much higher-level than C or Fortran, and abstract-away loop indices, bit twiddling,  workspace arrays, and other sources of code clutter. A typical student reading good Python code can immediately understand and modify the algorithm, while the same student would be lost trying to understand typical optimized Fortran code.\n",
    "\n",
    "- **Pure-python packages are much easier to install than Python-wrapped C or Fortran code.** This is especially true on non-Linux systems. Fortran in particular can require some installation prerequisites that are non-trivial for many users. In practice, I've seen people give up on better tools when there is an installation barrier for those tools.\n",
    "\n",
    "- **Pure-python code often works for many data types.** Because of the way it is written, pure Python code is often automatically applicable to single or double precision, and perhaps even to extensions to complex numbers. For compiled packages, supporting and compiling for all possible types can be a burden.\n",
    "\n",
    "- **Pure-python is easier to use at scale.** Because it does not require complicated installation, pure Python packages can be much easier to install on cloud VMs and/or shared clusters for computation at scale. If you can easily pip-install a pure-Python package on a VM, then services like AWS and TravisCI are much easier to set up.\n",
    "\n",
    "Certainly code speed will overcome these considerations if the performance gap is great enough, but I've found that for many applications a pure Python package, cleverly designed and optimized, can be made fast enough that these larger considerations win-out. The challenge is making the Python fast. We'll explore this below."
   ]
  },
  {
   "cell_type": "markdown",
   "metadata": {},
   "source": [
    "## Background: The Non-Uniform Fast Fourier Transform\n",
    "\n",
    "The Fast Fourier Transform (FFT) is perhaps the most important and fundamental of modern numerical algorithms.\n",
    "It provides a fast, $O[N\\log N]$ method of computing the discrete Fourier transform:\n",
    "$$\n",
    "Y_k^\\pm = \\sum_{n=0}^{N-1} y_n e^{\\pm i k n / N}\n",
    "$$\n",
    "You can read more about the FFT in [my previous post](https://jakevdp.github.io/blog/2013/08/28/understanding-the-fft/) on the subject.\n",
    "\n",
    "One important limitation of the FFT is that it requires that input data be evenly-spaced: that is, we can think of the values $y_n$ as samples of a function $y_n = y(x_n)$ where $x_n = x_0 + n\\Delta x$ is a regular grid of points.\n",
    "But what about when your grid is not uniform?\n",
    "That is, what if you want to compute this result:\n",
    "$$\n",
    "Y_k^\\pm = \\sum_{j=1}^N y(x_j) e^{\\pm i k x_j}\n",
    "$$\n",
    "where $y(x)$ is evaluated at an arbitrary set of points $x_j$?\n",
    "In this case, the FFT is no longer directly applicable, and you're stuck using a much slower $O[N^2]$ direct summation.\n",
    "\n",
    "Stuck, that is, until the NUFFT came along.\n",
    "\n",
    "The NUFFT is a clever algorithm which converts the non-uniform transform into an approximate uniform transform, not with error-prone interpolation, but instead using a clever \"gridding\" operation motivated by the convolution theorem.\n",
    "If you'd like to read about the algorithm in detail, the Courant Institute's [NUFFT page](http://www.cims.nyu.edu/cmcl/nufft/nufft.html) has a nice set of resources.\n",
    "\n",
    "Below we'll take a look at implementing this algorithm in Python."
   ]
  },
  {
   "cell_type": "markdown",
   "metadata": {},
   "source": [
    "## Direct Non-Uniform Fourier Transform\n",
    "\n",
    "When developing optimized code, it is important to start with something easy to make sure you're on the right track.\n",
    "Here we'll start with a straightforward direct version of the non-uniform Fourier transform.\n",
    "We'll allow non-uniform inputs $x_j$, but compute the output on a grid of $M$ evenly-spaced frequencies in the range $-M/2 \\le f/\\delta f < M/2$.\n",
    "This is what the NUFFT group calls the *Type-1 NUFFT*.\n",
    "\n",
    "First we'll implement ``nufftfreqs()``, which returns the frequency grid for a given $M$, and ``nudft()`` which computes the non-uniform discrete Fourier transform using a slow direct method. The arguments for the latter include ``iflag``, which is a positive or negative number indicating the desired sign of the exponent:"
   ]
  },
  {
   "cell_type": "code",
   "execution_count": 19,
   "metadata": {},
   "outputs": [],
   "source": [
    "from __future__ import print_function, division\n",
    "import numpy as np\n",
    "\n",
    "def nufftfreqs(M, df=1):\n",
    "    \"\"\"Compute the frequency range used in nufft for M frequency bins\"\"\"\n",
    "    return df * np.arange(-(M // 2), M - (M // 2))\n",
    "\n",
    "\n",
    "def nudft(x, y, M, df=1.0, iflag=1):\n",
    "    \"\"\"Non-Uniform Direct Fourier Transform\"\"\"\n",
    "    sign = -1 if iflag < 0 else 1\n",
    "    return (1 / len(x)) * np.dot(y, np.exp(sign * 1j * nufftfreqs(M, df) * x[:, np.newaxis]))"
   ]
  },
  {
   "cell_type": "markdown",
   "metadata": {},
   "source": [
    "Again, I can't emphasize this enough: when writing fast code, start with a slow-and-simple version of the code which you *know* gives the correct result, and then optimize from there."
   ]
  },
  {
   "cell_type": "markdown",
   "metadata": {},
   "source": [
    "## Comparing to the Fortran NUFFT"
   ]
  },
  {
   "cell_type": "markdown",
   "metadata": {},
   "source": [
    "We can double-check that this is producing the desired result by comparing to the Fortran NUFFT implementation, using Python wrappers written by Dan Foreman-Mackey, available at [http://github.com/dfm/python-nufft/](http://github.com/dfm/python-nufft/):"
   ]
  },
  {
   "cell_type": "code",
   "execution_count": 20,
   "metadata": {},
   "outputs": [
    {
     "data": {
      "text/plain": [
       "True"
      ]
     },
     "execution_count": 20,
     "metadata": {},
     "output_type": "execute_result"
    }
   ],
   "source": [
    "# Install nufft from http://github.com/dfm/python-nufft/\n",
    "from nufft import nufft1 as nufft_fortran\n",
    "\n",
    "x = 100 * np.random.random(1000)\n",
    "y = np.sin(x)\n",
    "\n",
    "Y1 = nudft(x, y, 1000)\n",
    "Y2 = nufft_fortran(x, y, 1000)\n",
    "\n",
    "np.allclose(Y1, Y2)"
   ]
  },
  {
   "cell_type": "markdown",
   "metadata": {},
   "source": [
    "The results match! A quick check shows that, as we might expect, the Fortran algorithm is orders of magnitude faster:"
   ]
  },
  {
   "cell_type": "code",
   "execution_count": 21,
   "metadata": {},
   "outputs": [
    {
     "name": "stdout",
     "output_type": "stream",
     "text": [
      "10 loops, best of 3: 143 ms per loop\n",
      "1000 loops, best of 3: 339 µs per loop\n"
     ]
    }
   ],
   "source": [
    "%timeit nudft(x, y, 1000)\n",
    "%timeit nufft_fortran(x, y, 1000)"
   ]
  },
  {
   "cell_type": "markdown",
   "metadata": {},
   "source": [
    "On top of this, for $N$ points and $N$ frequencies, the Fortran NUFFT will scale as $O[N\\log N]$, while our simple implementation will scale as $O[N^2]$, making the difference even greater as $N$ increases! Let's see if we can do better."
   ]
  },
  {
   "cell_type": "markdown",
   "metadata": {},
   "source": [
    "## NUFFT with Python\n",
    "\n",
    "Here we'll attempt a pure-Python version of the fast, FFT-based NUFFT.\n",
    "We'll follow the basics of the algorithm presented on the NUFFT page, using NumPy broadcasting tricks to push loops into the compiled layer of NumPy.\n",
    "For later convenience, we'll start by defining a utility to compute the grid parameters as detailed in the NUFFT paper."
   ]
  },
  {
   "cell_type": "code",
   "execution_count": 22,
   "metadata": {},
   "outputs": [],
   "source": [
    "def _compute_grid_params(M, eps):\n",
    "    # Choose Msp & tau from eps following Dutt & Rokhlin (1993)\n",
    "    if eps <= 1E-33 or eps >= 1E-1:\n",
    "        raise ValueError(\"eps = {0:.0e}; must satisfy \"\n",
    "                         \"1e-33 < eps < 1e-1.\".format(eps))\n",
    "    ratio = 2 if eps > 1E-11 else 3\n",
    "    Msp = int(-np.log(eps) / (np.pi * (ratio - 1) / (ratio - 0.5)) + 0.5)\n",
    "    Mr = max(ratio * M, 2 * Msp)\n",
    "    lambda_ = Msp / (ratio * (ratio - 0.5))\n",
    "    tau = np.pi * lambda_ / M ** 2\n",
    "    return Msp, Mr, tau\n",
    "\n",
    "\n",
    "def nufft_python(x, c, M, df=1.0, eps=1E-15, iflag=1):\n",
    "    \"\"\"Fast Non-Uniform Fourier Transform with Python\"\"\"\n",
    "    Msp, Mr, tau = _compute_grid_params(M, eps)\n",
    "    N = len(x)\n",
    "\n",
    "    # Construct the convolved grid\n",
    "    ftau = np.zeros(Mr, dtype=c.dtype)\n",
    "    Mr = ftau.shape[0]\n",
    "    hx = 2 * np.pi / Mr\n",
    "    mm = np.arange(-Msp, Msp)\n",
    "    for i in range(N):\n",
    "        xi = (x[i] * df) % (2 * np.pi)\n",
    "        m = 1 + int(xi // hx)\n",
    "        spread = np.exp(-0.25 * (xi - hx * (m + mm)) ** 2 / tau)\n",
    "        ftau[(m + mm) % Mr] += c[i] * spread\n",
    "\n",
    "    # Compute the FFT on the convolved grid\n",
    "    if iflag < 0:\n",
    "        Ftau = (1 / Mr) * np.fft.fft(ftau)\n",
    "    else:\n",
    "        Ftau = np.fft.ifft(ftau)\n",
    "    Ftau = np.concatenate([Ftau[-(M//2):], Ftau[:M//2 + M % 2]])\n",
    "\n",
    "    # Deconvolve the grid using convolution theorem\n",
    "    k = nufftfreqs(M)\n",
    "    return (1 / N) * np.sqrt(np.pi / tau) * np.exp(tau * k ** 2) * Ftau"
   ]
  },
  {
   "cell_type": "markdown",
   "metadata": {},
   "source": [
    "Let's compare this to the previous results.\n",
    "For convenience, we'll define a single routine which validates the results and times the execution:"
   ]
  },
  {
   "cell_type": "code",
   "execution_count": 23,
   "metadata": {},
   "outputs": [],
   "source": [
    "from time import time\n",
    "\n",
    "def test_nufft(nufft_func, M=1000, Mtime=100000):\n",
    "    # Test vs the direct method\n",
    "    print(30 * '-')\n",
    "    name = {'nufft1':'nufft_fortran'}.get(nufft_func.__name__,\n",
    "                                          nufft_func.__name__)\n",
    "    print(\"testing {0}\".format(name))\n",
    "    rng = np.random.RandomState(0)\n",
    "    x = 100 * rng.rand(M + 1)\n",
    "    y = np.sin(x)\n",
    "    for df in [1, 2.0]:\n",
    "        for iflag in [1, -1]:\n",
    "            F1 = nudft(x, y, M, df=df, iflag=iflag)\n",
    "            F2 = nufft_func(x, y, M, df=df, iflag=iflag)\n",
    "            assert np.allclose(F1, F2)\n",
    "    print(\"- Results match the DFT\")\n",
    "    \n",
    "    # Time the nufft function\n",
    "    x = 100 * rng.rand(Mtime)\n",
    "    y = np.sin(x)\n",
    "    times = []\n",
    "    for i in range(5):\n",
    "        t0 = time()\n",
    "        F = nufft_func(x, y, Mtime)\n",
    "        t1 = time()\n",
    "        times.append(t1 - t0)\n",
    "    print(\"- Execution time (M={0}): {1:.2g} sec\".format(Mtime, np.median(times)))"
   ]
  },
  {
   "cell_type": "code",
   "execution_count": 24,
   "metadata": {},
   "outputs": [
    {
     "name": "stdout",
     "output_type": "stream",
     "text": [
      "------------------------------\n",
      "testing nufft_python\n",
      "- Results match the DFT\n",
      "- Execution time (M=100000): 1.3 sec\n",
      "------------------------------\n",
      "testing nufft_fortran\n",
      "- Results match the DFT\n",
      "- Execution time (M=100000): 0.042 sec\n"
     ]
    }
   ],
   "source": [
    "test_nufft(nufft_python)\n",
    "test_nufft(nufft_fortran)"
   ]
  },
  {
   "cell_type": "markdown",
   "metadata": {},
   "source": [
    "The good news is that our Python implementation works; the bad news is that it remains several orders of magnitude slower than the Fortran result!\n",
    "\n",
    "Let's make it faster."
   ]
  },
  {
   "cell_type": "markdown",
   "metadata": {},
   "source": [
    "### Making Code Faster: Line Profiling\n",
    "\n",
    "We know that our Python function is slow, but we'd like to determine *where* this speed bottleneck lies.\n",
    "One convenient way to do this is with the ``line_profiler`` utility, a Python/IPython addon which can be installed using\n",
    "```\n",
    "$ pip install line_profiler\n",
    "```\n",
    "Once it's installed, we can load the line profiler extension into the IPython notebook using the ``%load_ext`` magic function:"
   ]
  },
  {
   "cell_type": "code",
   "execution_count": 25,
   "metadata": {},
   "outputs": [
    {
     "name": "stdout",
     "output_type": "stream",
     "text": [
      "The line_profiler extension is already loaded. To reload it, use:\n",
      "  %reload_ext line_profiler\n"
     ]
    }
   ],
   "source": [
    "%load_ext line_profiler"
   ]
  },
  {
   "cell_type": "markdown",
   "metadata": {},
   "source": [
    "With the line profiler loaded, the ``%lprun`` magic function is now available, which we can use to profile our function line-by-line.\n",
    "In order to display these results here, we'll save them to file and then use ``%cat`` to view the file:"
   ]
  },
  {
   "cell_type": "code",
   "execution_count": 26,
   "metadata": {},
   "outputs": [
    {
     "name": "stdout",
     "output_type": "stream",
     "text": [
      "\n",
      "*** Profile printout saved to text file u'lp_results.txt'. \n",
      "Timer unit: 1e-06 s\r\n",
      "\r\n",
      "Total time: 0.031398 s\r\n",
      "File: <ipython-input-22-cce3eafad61b>\r\n",
      "Function: nufft_python at line 14\r\n",
      "\r\n",
      "Line #      Hits         Time  Per Hit   % Time  Line Contents\r\n",
      "==============================================================\r\n",
      "    14                                           def nufft_python(x, c, M, df=1.0, eps=1E-15, iflag=1):\r\n",
      "    15                                               \"\"\"Fast Non-Uniform Fourier Transform with Python\"\"\"\r\n",
      "    16         1           27     27.0      0.1      Msp, Mr, tau = _compute_grid_params(M, eps)\r\n",
      "    17         1            1      1.0      0.0      N = len(x)\r\n",
      "    18                                           \r\n",
      "    19                                               # Construct the convolved grid\r\n",
      "    20         1           54     54.0      0.2      ftau = np.zeros(Mr, dtype=c.dtype)\r\n",
      "    21         1            2      2.0      0.0      Mr = ftau.shape[0]\r\n",
      "    22         1            3      3.0      0.0      hx = 2 * np.pi / Mr\r\n",
      "    23         1            8      8.0      0.0      mm = np.arange(-Msp, Msp)\r\n",
      "    24      1001         1086      1.1      3.5      for i in range(N):\r\n",
      "    25      1000         2283      2.3      7.3          xi = (x[i] * df) % (2 * np.pi)\r\n",
      "    26      1000         1815      1.8      5.8          m = 1 + int(xi // hx)\r\n",
      "    27      1000        15445     15.4     49.2          spread = np.exp(-0.25 * (xi - hx * (m + mm)) ** 2 / tau)\r\n",
      "    28      1000        10340     10.3     32.9          ftau[(m + mm) % Mr] += c[i] * spread\r\n",
      "    29                                           \r\n",
      "    30                                               # Compute the FFT on the convolved grid\r\n",
      "    31         1            1      1.0      0.0      if iflag < 0:\r\n",
      "    32                                                   Ftau = (1 / Mr) * np.fft.fft(ftau)\r\n",
      "    33                                               else:\r\n",
      "    34         1          241    241.0      0.8          Ftau = np.fft.ifft(ftau)\r\n",
      "    35         1           15     15.0      0.0      Ftau = np.concatenate([Ftau[-(M//2):], Ftau[:M//2 + M % 2]])\r\n",
      "    36                                           \r\n",
      "    37                                               # Deconvolve the grid using convolution theorem\r\n",
      "    38         1           16     16.0      0.1      k = nufftfreqs(M)\r\n",
      "    39         1           61     61.0      0.2      return (1 / N) * np.sqrt(np.pi / tau) * np.exp(tau * k ** 2) * Ftau"
     ]
    }
   ],
   "source": [
    "%lprun -s -f nufft_python -T lp_results.txt nufft_python(x, y, 1000)\n",
    "%cat lp_results.txt"
   ]
  },
  {
   "cell_type": "markdown",
   "metadata": {},
   "source": [
    "The output shows us where, line-by-line, the algorithm is spending the most time.\n",
    "We see that nearly 99% of the execution time is being spent in the single ``for`` loop at the center of our code.\n",
    "The loop is so expensive that even the FFT computation is just a trivial piece of the cost!\n",
    "This is actually pretty typical: due to dynamic typing, loops are generally very slow in Python.\n",
    "\n",
    "One of the surest strategies for speeding-up your code is to use broadcasting tricks in NumPy to remove these kinds of large loops: you can read one of my course lectures on the subject [here](http://nbviewer.ipython.org/url/www.astro.washington.edu/users/vanderplas/Astr599_2014/notebooks/11_EfficientNumpy.ipynb).\n",
    "We'll do this next."
   ]
  },
  {
   "cell_type": "markdown",
   "metadata": {},
   "source": [
    "## NUFFT with NumPy Broadcasting\n",
    "\n",
    "Let's rewrite the above implementation and use broadcasting tricks to elliminate the loops.\n",
    "Because of the structure of this problem, the approach is a bit complicated here, but it turns out that we can take advantage here of the little-known ``at()`` method of NumPy's ufunc.\n",
    "Briefly,\n",
    "```python\n",
    ">>> np.add.at(x, i, y)\n",
    "```\n",
    "is similar to\n",
    "```python\n",
    ">>> x[i] += y\n",
    "```\n",
    "but works as desired even if the incides ``i`` have duplicate entries.\n",
    "\n",
    "Using this, we can adjust our implementation as follows:"
   ]
  },
  {
   "cell_type": "code",
   "execution_count": 27,
   "metadata": {},
   "outputs": [],
   "source": [
    "def nufft_numpy(x, y, M, df=1.0, iflag=1, eps=1E-15):\n",
    "    \"\"\"Fast Non-Uniform Fourier Transform\"\"\"\n",
    "    Msp, Mr, tau = _compute_grid_params(M, eps)\n",
    "    N = len(x)\n",
    "\n",
    "    # Construct the convolved grid ftau:\n",
    "    # this replaces the loop used above\n",
    "    ftau = np.zeros(Mr, dtype=y.dtype)\n",
    "    hx = 2 * np.pi / Mr\n",
    "    xmod = (x * df) % (2 * np.pi)\n",
    "    m = 1 + (xmod // hx).astype(int)\n",
    "    mm = np.arange(-Msp, Msp)\n",
    "    mpmm = m + mm[:, np.newaxis]\n",
    "    spread = y * np.exp(-0.25 * (xmod - hx * mpmm) ** 2 / tau)\n",
    "    np.add.at(ftau, mpmm % Mr, spread)\n",
    "\n",
    "    # Compute the FFT on the convolved grid\n",
    "    if iflag < 0:\n",
    "        Ftau = (1 / Mr) * np.fft.fft(ftau)\n",
    "    else:\n",
    "        Ftau = np.fft.ifft(ftau)\n",
    "    Ftau = np.concatenate([Ftau[-(M//2):], Ftau[:M//2 + M % 2]])\n",
    "\n",
    "    # Deconvolve the grid using convolution theorem\n",
    "    k = nufftfreqs(M)\n",
    "    return (1 / N) * np.sqrt(np.pi / tau) * np.exp(tau * k ** 2) * Ftau"
   ]
  },
  {
   "cell_type": "markdown",
   "metadata": {},
   "source": [
    "Let's test it:"
   ]
  },
  {
   "cell_type": "code",
   "execution_count": 28,
   "metadata": {},
   "outputs": [
    {
     "name": "stdout",
     "output_type": "stream",
     "text": [
      "------------------------------\n",
      "testing nufft_numpy\n",
      "- Results match the DFT\n",
      "- Execution time (M=100000): 0.34 sec\n",
      "------------------------------\n",
      "testing nufft_python\n",
      "- Results match the DFT\n",
      "- Execution time (M=100000): 1.3 sec\n",
      "------------------------------\n",
      "testing nufft_fortran\n",
      "- Results match the DFT\n",
      "- Execution time (M=100000): 0.045 sec\n"
     ]
    }
   ],
   "source": [
    "test_nufft(nufft_numpy)\n",
    "test_nufft(nufft_python)\n",
    "test_nufft(nufft_fortran)"
   ]
  },
  {
   "cell_type": "markdown",
   "metadata": {},
   "source": [
    "It worked! We gained around a factor of 4 speedup in replacing the Python loop with the ``np.add.at()`` call.\n",
    "Still, though, we're sitting at about a factor of 10 slower than the Fortran version.\n",
    "The problem is that the ``np.add.at()`` call here requires construction of some very large and costly temporary arrays.\n",
    "If we want a faster execution time, we need to further optimize that main loop, and we can't do this with NumPy alone."
   ]
  },
  {
   "cell_type": "markdown",
   "metadata": {},
   "source": [
    "## Optimization with Numba\n",
    "\n",
    "When NumPy broadcasting tricks aren't enough, there are a few options: you can write Fortran or C code directly, you can use [Cython](http://cython.org), [Weave](http://docs.scipy.org/doc/scipy/reference/tutorial/weave.html), or other tools as a bridge to include compiled snippets in your script, or you can use a tool like [Numba](http://cython.org) to speed-up your loops without ever leaving Python.\n",
    "\n",
    "Numba is a slick tool which runs Python functions through an LLVM just-in-time (JIT) compiler, leading to orders-of-magnitude faster code for certain operations.\n",
    "In this case, we need to optimize what amounts to a nested for-loop, so Numba fits the bill perfectly.\n",
    "For clarity, we'll pull-out the grid construction code that we want to optimize, and write it as follows:"
   ]
  },
  {
   "cell_type": "code",
   "execution_count": 29,
   "metadata": {},
   "outputs": [],
   "source": [
    "import numba\n",
    "\n",
    "# nopython=True means an error will be raised\n",
    "# if fast compilation is not possible.\n",
    "@numba.jit(nopython=True)\n",
    "def build_grid(x, c, tau, Msp, ftau):\n",
    "    Mr = ftau.shape[0]\n",
    "    hx = 2 * np.pi / Mr\n",
    "    for i in range(x.shape[0]):\n",
    "        xi = x[i] % (2 * np.pi)\n",
    "        m = 1 + int(xi // hx)\n",
    "        for mm in range(-Msp, Msp):\n",
    "            ftau[(m + mm) % Mr] += c[i] * np.exp(-0.25 * (xi - hx * (m + mm)) ** 2 / tau)\n",
    "    return ftau\n",
    "\n",
    "\n",
    "def nufft_numba(x, c, M, df=1.0, eps=1E-15, iflag=1):\n",
    "    \"\"\"Fast Non-Uniform Fourier Transform with Numba\"\"\"\n",
    "    Msp, Mr, tau = _compute_grid_params(M, eps)\n",
    "    N = len(x)\n",
    "\n",
    "    # Construct the convolved grid\n",
    "    ftau = build_grid(x * df, c, tau, Msp,\n",
    "                      np.zeros(Mr, dtype=c.dtype))\n",
    "\n",
    "    # Compute the FFT on the convolved grid\n",
    "    if iflag < 0:\n",
    "        Ftau = (1 / Mr) * np.fft.fft(ftau)\n",
    "    else:\n",
    "        Ftau = np.fft.ifft(ftau)\n",
    "    Ftau = np.concatenate([Ftau[-(M//2):], Ftau[:M//2 + M % 2]])\n",
    "\n",
    "    # Deconvolve the grid using convolution theorem\n",
    "    k = nufftfreqs(M)\n",
    "    return (1 / N) * np.sqrt(np.pi / tau) * np.exp(tau * k ** 2) * Ftau"
   ]
  },
  {
   "cell_type": "markdown",
   "metadata": {},
   "source": [
    "Let's test this now:"
   ]
  },
  {
   "cell_type": "code",
   "execution_count": 30,
   "metadata": {},
   "outputs": [
    {
     "name": "stdout",
     "output_type": "stream",
     "text": [
      "------------------------------\n",
      "testing nufft_numba\n",
      "- Results match the DFT\n",
      "- Execution time (M=100000): 0.097 sec\n",
      "------------------------------\n",
      "testing nufft_fortran\n",
      "- Results match the DFT\n",
      "- Execution time (M=100000): 0.042 sec\n"
     ]
    }
   ],
   "source": [
    "test_nufft(nufft_numba)\n",
    "test_nufft(nufft_fortran)"
   ]
  },
  {
   "cell_type": "markdown",
   "metadata": {},
   "source": [
    "Much better! We're now within about a factor of 3 of the Fortran speed, and we're still writing pure Python!\n",
    "\n",
    "Having plucked all the low-hanging fruit, any further optimization will now be very low-level: that is, thinking about things like reduction of the number of ``exp()`` evaluations through application of mathematical identities.\n",
    "This type of careful logic is one reason the Fortran implementation is so fast, and many of these low-level strategies are discussed in the NUFFT paper linked above.\n",
    "\n",
    "To gain some more speed, we can follow their advice and optimize the expressions at this level by precomputing expensive expressions and recombining these expressions later:\n",
    "This makes the algorithm a bit more obfuscated, but it does lead to some faster execution.\n",
    "Here is an example of this:"
   ]
  },
  {
   "cell_type": "code",
   "execution_count": 31,
   "metadata": {},
   "outputs": [],
   "source": [
    "import numba\n",
    "\n",
    "@numba.jit(nopython=True)\n",
    "def build_grid_fast(x, c, tau, Msp, ftau, E3):\n",
    "    Mr = ftau.shape[0]\n",
    "    hx = 2 * np.pi / Mr\n",
    "    \n",
    "    # precompute some exponents\n",
    "    for j in range(Msp + 1):\n",
    "        E3[j] = np.exp(-(np.pi * j / Mr) ** 2 / tau)\n",
    "        \n",
    "    # spread values onto ftau\n",
    "    for i in range(x.shape[0]):\n",
    "        xi = x[i] % (2 * np.pi)\n",
    "        m = 1 + int(xi // hx)\n",
    "        xi = (xi - hx * m)\n",
    "        E1 = np.exp(-0.25 * xi ** 2 / tau)\n",
    "        E2 = np.exp((xi * np.pi) / (Mr * tau))\n",
    "        E2mm = 1\n",
    "        for mm in range(Msp):\n",
    "            ftau[(m + mm) % Mr] += c[i] * E1 * E2mm * E3[mm]\n",
    "            E2mm *= E2\n",
    "            ftau[(m - mm - 1) % Mr] += c[i] * E1 / E2mm * E3[mm + 1]\n",
    "    return ftau\n",
    "\n",
    "\n",
    "def nufft_numba_fast(x, c, M, df=1.0, eps=1E-15, iflag=1):\n",
    "    \"\"\"Fast Non-Uniform Fourier Transform with Numba\"\"\"\n",
    "    Msp, Mr, tau = _compute_grid_params(M, eps)\n",
    "    N = len(x)\n",
    "\n",
    "    # Construct the convolved grid\n",
    "    ftau = build_grid_fast(x * df, c, tau, Msp,\n",
    "                           np.zeros(Mr, dtype=c.dtype),\n",
    "                           np.zeros(Msp + 1, dtype=x.dtype))\n",
    "\n",
    "    # Compute the FFT on the convolved grid\n",
    "    if iflag < 0:\n",
    "        Ftau = (1 / Mr) * np.fft.fft(ftau)\n",
    "    else:\n",
    "        Ftau = np.fft.ifft(ftau)\n",
    "    Ftau = np.concatenate([Ftau[-(M//2):], Ftau[:M//2 + M % 2]])\n",
    "\n",
    "    # Deconvolve the grid using convolution theorem\n",
    "    k = nufftfreqs(M)\n",
    "    return (1 / N) * np.sqrt(np.pi / tau) * np.exp(tau * k ** 2) * Ftau"
   ]
  },
  {
   "cell_type": "markdown",
   "metadata": {},
   "source": [
    "Let's test the result:"
   ]
  },
  {
   "cell_type": "code",
   "execution_count": 32,
   "metadata": {},
   "outputs": [
    {
     "name": "stdout",
     "output_type": "stream",
     "text": [
      "------------------------------\n",
      "testing nufft_numba_fast\n",
      "- Results match the DFT\n",
      "- Execution time (M=100000): 0.038 sec\n",
      "------------------------------\n",
      "testing nufft_fortran\n",
      "- Results match the DFT\n",
      "- Execution time (M=100000): 0.045 sec\n"
     ]
    }
   ],
   "source": [
    "test_nufft(nufft_numba_fast)\n",
    "test_nufft(nufft_fortran)"
   ]
  },
  {
   "cell_type": "markdown",
   "metadata": {},
   "source": [
    "This is looking good! With a bit of effort we are now within about 25% of the Fortran speed, and we retain all the advantages of having pure Python code!"
   ]
  },
  {
   "cell_type": "markdown",
   "metadata": {},
   "source": [
    "## Let's try making numba faster\n",
    "\n",
    "Can I make numba even faster with parallel code and declaring data types?\n",
    "\n",
    "On my system -- no :'(\n",
    "\n",
    "but numba is just as fast as fortran when the number of elements is large"
   ]
  },
  {
   "cell_type": "code",
   "execution_count": 33,
   "metadata": {},
   "outputs": [],
   "source": [
    "import numba\n",
    "from numba import prange, float64, int64\n",
    "\n",
    "@numba.jit(float64[:](float64[:], float64[:], float64, int64, float64[:], float64[:]),\n",
    "           nopython=True, parallel=True)\n",
    "def build_grid_faster(x, c, tau, Msp, ftau, E3):\n",
    "    Mr = ftau.shape[0]\n",
    "    hx = 2 * np.pi / Mr\n",
    "    \n",
    "    # precompute some exponents\n",
    "    for j in prange(Msp + 1):\n",
    "        E3[j] = np.exp(-(np.pi * j / Mr) ** 2 / tau)\n",
    "        \n",
    "    # spread values onto ftau\n",
    "    for i in range(x.shape[0]):\n",
    "        xi = x[i] % (2 * np.pi)\n",
    "        m = 1 + int(xi // hx)\n",
    "        xi = (xi - hx * m)\n",
    "        E1 = np.exp(-0.25 * xi ** 2 / tau)\n",
    "        E2 = np.exp((xi * np.pi) / (Mr * tau))\n",
    "        E2mm = 1\n",
    "        for mm in range(Msp):\n",
    "            ftau[(m + mm) % Mr] += c[i] * E1 * E2mm * E3[mm]\n",
    "            E2mm *= E2\n",
    "            ftau[(m - mm - 1) % Mr] += c[i] * E1 / E2mm * E3[mm + 1]\n",
    "    return ftau\n",
    "\n",
    "@numba.jit(nopython=True, parallel=True)\n",
    "def _compute_grid_params_faster(M, eps):\n",
    "    # Choose Msp & tau from eps following Dutt & Rokhlin (1993)\n",
    "    if eps <= 1E-33 or eps >= 1E-1:\n",
    "        raise ValueError(\"must satisfy \")\n",
    "    ratio = 2 if eps > 1E-11 else 3\n",
    "    Msp = int(-np.log(eps) / (np.pi * (ratio - 1) / (ratio - 0.5)) + 0.5)\n",
    "    Mr = max(ratio * M, 2 * Msp)\n",
    "    lambda_ = Msp / (ratio * (ratio - 0.5))\n",
    "    tau = np.pi * lambda_ / M ** 2\n",
    "    return Msp, Mr, tau\n",
    "\n",
    "\n",
    "@numba.jit(nopython=True, parallel=True)\n",
    "def nufftfreqs_faster(M):\n",
    "    \"\"\"Compute the frequency range used in nufft for M frequency bins\"\"\"\n",
    "    return np.arange(-(M // 2), M - (M // 2))\n",
    "\n",
    "\n",
    "@numba.jit(nopython=False, parallel=True)\n",
    "def nufft_numba_faster(x, c, M, df=1.0, eps=1E-15, iflag=1):\n",
    "    \"\"\"Fast Non-Uniform Fourier Transform with Numba\"\"\"\n",
    "    Msp, Mr, tau = _compute_grid_params_faster(M, eps)\n",
    "    N = len(x)\n",
    "    # Msp, Mr are int\n",
    "    # tau is float\n",
    "    \n",
    "    # x is a float\n",
    "    # c is a float\n",
    "    # float\n",
    "    # float\n",
    "    # Construct the convolved grid\n",
    "#     print(np.shape(x), np.dtype(x))\n",
    "#     print(np.shape(c), np.dtype(c))\n",
    "#     print(np.shape(tau), np.type(tau))\n",
    "    ftau = build_grid_faster(x * df, c, tau, Msp,\n",
    "                           np.zeros(Mr, dtype=c.dtype),\n",
    "                           np.zeros(Msp + 1, dtype=x.dtype))\n",
    "\n",
    "    # Compute the FFT on the convolved grid\n",
    "    if iflag < 0:\n",
    "        Ftau = (1 / Mr) * np.fft.fft(ftau)\n",
    "    else:\n",
    "        Ftau = np.fft.ifft(ftau)\n",
    "    Ftau = np.concatenate([Ftau[-(M//2):], Ftau[:M//2 + M % 2]])\n",
    "\n",
    "    # Deconvolve the grid using convolution theorem\n",
    "    k = nufftfreqs_faster(M)\n",
    "    return (1 / N) * np.sqrt(np.pi / tau) * np.exp(tau * k ** 2) * Ftau\n",
    "\n",
    "def test_nufft_faster(MM=1000, Mtime=100000):\n",
    "    # Test vs the direct method\n",
    "    print(30 * '-')\n",
    "#     name = {'nufft1':'nufft_fortran'}.get(nufft_numba_faster.__name__,\n",
    "#                                           nufft_numba_faster.__name__)\n",
    "    print(\"testing numba faster\")\n",
    "    rng = np.random.RandomState(0)\n",
    "    x = 100 * rng.rand(1000 + 1)\n",
    "    y = np.sin(x)\n",
    "    for df in [1, 2.0]:\n",
    "        for iflag in [1, -1]:\n",
    "            F1 = nudft(x, y, 1000, df=df, iflag=iflag)\n",
    "            F2 = nufft_numba_faster(x, y, 1000, df=df, iflag=iflag)\n",
    "            assert np.allclose(F1, F2)\n",
    "    print(\"- Results match the DFT\")\n",
    "    \n",
    "    # Time the nufft function\n",
    "    x = 100 * rng.rand(Mtime)\n",
    "    y = np.sin(x)\n",
    "    times = []\n",
    "    for i in range(5):\n",
    "        t0 = time()\n",
    "        F = nufft_numba_faster(x, y, Mtime)\n",
    "        t1 = time()\n",
    "        times.append(t1 - t0)\n",
    "    print(\"- Execution time (M={0}): {1:.2g} sec\".format(Mtime, np.median(times)))\n"
   ]
  },
  {
   "cell_type": "code",
   "execution_count": 34,
   "metadata": {},
   "outputs": [
    {
     "name": "stdout",
     "output_type": "stream",
     "text": [
      "------------------------------\n",
      "testing numba faster\n",
      "- Results match the DFT\n",
      "- Execution time (M=100000): 0.036 sec\n"
     ]
    }
   ],
   "source": [
    "# rng = np.random.RandomState(0)\n",
    "# x = 100 * rng.rand(1000 + 1)\n",
    "test_nufft_faster(nufft_numba_faster)"
   ]
  },
  {
   "cell_type": "markdown",
   "metadata": {},
   "source": [
    "## Final Timing Comparison\n",
    "\n",
    "For good measure, let's take a look at the scaling with $M$ for all the fast algorithms we created.\n",
    "We'll compute the times for a range of input sizes for each algorithm.\n",
    "Be aware that the following code will take several minutes to run!"
   ]
  },
  {
   "cell_type": "code",
   "execution_count": 35,
   "metadata": {},
   "outputs": [],
   "source": [
    "%matplotlib inline\n",
    "import matplotlib.pyplot as plt\n",
    "# use seaborn for nice default plot settings\n",
    "import seaborn; seaborn.set()"
   ]
  },
  {
   "cell_type": "code",
   "execution_count": 36,
   "metadata": {},
   "outputs": [],
   "source": [
    "Mrange = (2 ** np.arange(3, 18)).astype(int)\n",
    "\n",
    "t_python = []\n",
    "t_numpy = []\n",
    "t_numba = []\n",
    "t_numba_fast = []\n",
    "t_fortran = []\n",
    "t_numba_faster = []\n",
    "\n",
    "for M in Mrange:\n",
    "    x = 100 * np.random.random(M)\n",
    "    c = np.sin(x)\n",
    "    \n",
    "    t1 = %timeit -oq nufft_python(x, c, M)\n",
    "    t2 = %timeit -oq nufft_numpy(x, c, M)\n",
    "    t3 = %timeit -oq nufft_numba(x, c, M)\n",
    "    t4 = %timeit -oq nufft_numba_fast(x, c, M)\n",
    "    t5 = %timeit -oq nufft_fortran(x, c, M)\n",
    "    t6 = %timeit -oq nufft_numba_faster(x,c,M)\n",
    "    \n",
    "    t_python.append(t1.best)\n",
    "    t_numpy.append(t2.best)\n",
    "    t_numba.append(t3.best)\n",
    "    t_numba_fast.append(t4.best)\n",
    "    t_fortran.append(t5.best)\n",
    "    t_numba_faster.append(t6.best)"
   ]
  },
  {
   "cell_type": "code",
   "execution_count": 37,
   "metadata": {},
   "outputs": [
    {
     "data": {
      "image/png": "[encoded data removed]",
      "text/plain": [
       "<matplotlib.figure.Figure at 0x7f108e74c810>"
      ]
     },
     "metadata": {},
     "output_type": "display_data"
    }
   ],
   "source": [
    "plt.loglog(Mrange, t_python, label='python')\n",
    "plt.loglog(Mrange, t_numpy, label='numpy')\n",
    "plt.loglog(Mrange, t_numba, label='numba #1')\n",
    "plt.loglog(Mrange, t_numba_fast, label='numba #2')\n",
    "plt.loglog(Mrange, t_fortran, label='fortran')\n",
    "plt.loglog(Mrange, t_numba_fast, label='numba faster')\n",
    "plt.legend(loc='upper left')\n",
    "plt.xlabel('Number of Elements')\n",
    "plt.ylabel('Execution Time (s)');"
   ]
  },
  {
   "cell_type": "markdown",
   "metadata": {},
   "source": [
    "As we see, all the algorithms scale as $\\sim O[N\\log N]$ in the large $N$ limit, albeit with very different constants of proportionality.\n",
    "Our final optimized Numba implementation nearly matches the Fortran version as $N$ grows large, and because it is written in pure Python, it retains all the advantages of pure Python code listed above.\n",
    "For that benefit, I think the cost of a ~25% slow-down is well worth it!"
   ]
  },
  {
   "cell_type": "markdown",
   "metadata": {},
   "source": [
    "## Conclusion\n",
    "\n",
    "I hope you've enjoyed this exploration of how to write fast numerical code in pure Python.\n",
    "As you think about writing efficient implementations of useful algorithms, I invite you to consider the points I listed above: in particular, how difficult will it be for your users to install, read, modify, and contribute to your code?\n",
    "In the long run, this may be much more important than shaving a few milliseconds off the execution time.\n",
    "Writing a fast implementation of a useful algorithm is an excellent and useful pursuit, but we should be careful to not forget the costs that come along with such optimization.\n",
    "\n",
    "If you're interested in using the pure-Python NUFFT implementation, I've adapted much of the above code in a repository at [http://github.com/jakevdp/nufftpy/](http://github.com/jakevdp/nufftpy/).\n",
    "It contains a packaged and unit-tested version of some of the above code, as well as a (hopefully) growing compendium of related routines."
   ]
  },
  {
   "cell_type": "markdown",
   "metadata": {},
   "source": [
    "<small>\n",
    "This post was written entirely in the IPython notebook.  You can\n",
    "[download](http://jakevdp.github.io/downloads/notebooks/NUFFT.ipynb)\n",
    "this notebook, or see a static view\n",
    "[here](http://nbviewer.ipython.org/url/jakevdp.github.io/downloads/notebooks/NUFFT.ipynb).\n",
    "</small>"
   ]
  }
 ],
 "metadata": {
  "kernelspec": {
   "display_name": "Python 2",
   "language": "python",
   "name": "python2"
  },
  "language_info": {
   "codemirror_mode": {
    "name": "ipython",
    "version": 2
   },
   "file_extension": ".py",
   "mimetype": "text/x-python",
   "name": "python",
   "nbconvert_exporter": "python",
   "pygments_lexer": "ipython2",
   "version": "2.7.13"
  }
 },
 "nbformat": 4,
 "nbformat_minor": 1
}
