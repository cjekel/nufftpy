{
 "cells": [
  {
   "cell_type": "markdown",
   "metadata": {},
   "source": [
    "# Benchmarks\n",
    "\n",
    "This script shows benchmarks of the Non-Uniform Fast Fourier Transform (NUFFT). There is a Fortran implementation of the NUFFT (python wrappers at http://github.com/dfm/python-nufft/) and the pure-Python implementation of NUFFT (http://github.com/jakevdp/nufftpy/).\n",
    "Both are $O[N\\log N]$ for $N$ observations and $N$ frequencies, but the fortran version is about two times faster than the pure Python version."
   ]
  },
  {
   "cell_type": "code",
   "execution_count": 1,
   "metadata": {},
   "outputs": [],
   "source": [
    "%matplotlib inline\n",
    "import numpy as np\n",
    "import matplotlib.pyplot as plt\n",
    "import seaborn; seaborn.set()"
   ]
  },
  {
   "cell_type": "code",
   "execution_count": 2,
   "metadata": {},
   "outputs": [
    {
     "name": "stdout",
     "output_type": "stream",
     "text": [
      "Help on function nufft1 in module nufft.nufft:\n",
      "\n",
      "nufft1(x, y, ms, df=1.0, eps=1e-15, iflag=1, direct=False)\n",
      "\n"
     ]
    }
   ],
   "source": [
    "import nufft\n",
    "help(nufft.nufft1)"
   ]
  },
  {
   "cell_type": "code",
   "execution_count": 3,
   "metadata": {},
   "outputs": [
    {
     "name": "stdout",
     "output_type": "stream",
     "text": [
      "Help on function nufft1 in module nufftpy.nufft:\n",
      "\n",
      "nufft1(x, c, M, df=1.0, eps=1e-15, iflag=1, direct=False, fast_gridding=True, use_numba=True)\n",
      "    Fast Non-Uniform Fourier Transform (Type 1: uniform frequency grid)\n",
      "    \n",
      "    Compute the non-uniform FFT of one-dimensional points x with complex\n",
      "    values c. Result is computed at frequencies (df * m)\n",
      "    for integer m in the range -M/2 < m < M/2.\n",
      "    \n",
      "    Parameters\n",
      "    ----------\n",
      "    x, c : array_like\n",
      "        real locations x and complex values c of the points to be transformed.\n",
      "    M, df : int & float\n",
      "        Parameters specifying the desired frequency grid. Transform will be\n",
      "        computed at frequencies df * (-(M//2) + arange(M))\n",
      "    eps : float\n",
      "        The desired approximate error for the FFT result. Must be in range\n",
      "        1E-33 < eps < 1E-1, though be aware that the errors are only well\n",
      "        calibrated near the range 1E-12 ~ 1E-6. eps is not referenced if\n",
      "        direct = True.\n",
      "    iflag : float\n",
      "        if iflag<0, compute the transform with a negative exponent.\n",
      "        if iflag>=0, compute the transform with a positive exponent.\n",
      "    direct : bool (default = False)\n",
      "        If True, then use the slower (but more straightforward)\n",
      "        direct Fourier transform to compute the result.\n",
      "    fast_gridding : bool (default = True)\n",
      "        If True, use the fast Gaussian grid algorithm of Greengard & Lee (2004)\n",
      "        Otherwise, use a more naive gridding approach\n",
      "    use_numba : bool (default = True)\n",
      "        If True, use numba to compute the result. If False or if numba is not\n",
      "        installed, default to the numpy version, which is ~5x slower.\n",
      "    \n",
      "    Returns\n",
      "    -------\n",
      "    Fk : ndarray\n",
      "        The complex discrete Fourier transform\n",
      "    \n",
      "    See Also\n",
      "    --------\n",
      "    nufftfreqs : compute the frequencies of the nufft results\n",
      "\n"
     ]
    }
   ],
   "source": [
    "import nufftpy\n",
    "help(nufftpy.nufft1)"
   ]
  },
  {
   "cell_type": "code",
   "execution_count": 4,
   "metadata": {},
   "outputs": [
    {
     "name": "stdout",
     "output_type": "stream",
     "text": [
      "True\n",
      "True\n"
     ]
    }
   ],
   "source": [
    "M = 100000\n",
    "x = 100 * np.random.random(M)\n",
    "c = np.exp(1j * x)\n",
    "\n",
    "kwds = dict(eps=1E-8, iflag=-1, direct=False)\n",
    "\n",
    "k1 = nufft.nufft1freqs(M)\n",
    "F1 = nufft.nufft1(x, c, M, **kwds)\n",
    "\n",
    "k2 = nufftpy.nufftfreqs(M)\n",
    "F2 = nufftpy.nufft1(x, c, M, **kwds)\n",
    "\n",
    "print(np.allclose(k1, k2))\n",
    "print(np.allclose(F1, F2, atol=1E-8))"
   ]
  },
  {
   "cell_type": "code",
   "execution_count": 5,
   "metadata": {},
   "outputs": [],
   "source": [
    "Mrange = (2 ** np.arange(3, 21)).astype(int)\n",
    "kwds = dict(eps=1E-8, iflag=-1, direct=False)\n",
    "\n",
    "nufft_times = []\n",
    "nufftpy_times = []\n",
    "\n",
    "for M in Mrange:\n",
    "    x = 100 * np.random.random(M)\n",
    "    c = np.exp(1j * x)\n",
    "    \n",
    "    t1 = %timeit -oq nufft.nufft1(x, c, M, **kwds)\n",
    "    t2 = %timeit -oq nufftpy.nufft1(x, c, M, **kwds)\n",
    "    \n",
    "    nufft_times.append(t1.best)\n",
    "    nufftpy_times.append(t2.best)"
   ]
  },
  {
   "cell_type": "code",
   "execution_count": 6,
   "metadata": {},
   "outputs": [
    {
     "data": {
      "image/png": "[encoded data removed]",
      "text/plain": [
       "<matplotlib.figure.Figure at 0x7f2edf8723d0>"
      ]
     },
     "metadata": {},
     "output_type": "display_data"
    }
   ],
   "source": [
    "plt.loglog(Mrange, nufftpy_times, label='nufft python')\n",
    "plt.loglog(Mrange, nufft_times, label='nufft fortran')\n",
    "plt.legend(loc='upper left')\n",
    "plt.xlabel('Number of Elements')\n",
    "plt.ylabel('Execution Time (s)');"
   ]
  },
  {
   "cell_type": "markdown",
   "metadata": {},
   "source": [
    "For large inputs, the pure-Python version is less than a factor of 2 slower than the optimized Fortran equivalent. Pretty good!"
   ]
  },
  {
   "cell_type": "markdown",
   "metadata": {},
   "source": [
    "  "
   ]
  }
 ],
 "metadata": {
  "kernelspec": {
   "display_name": "Python 2",
   "language": "python",
   "name": "python2"
  },
  "language_info": {
   "codemirror_mode": {
    "name": "ipython",
    "version": 2
   },
   "file_extension": ".py",
   "mimetype": "text/x-python",
   "name": "python",
   "nbconvert_exporter": "python",
   "pygments_lexer": "ipython2",
   "version": "2.7.13"
  }
 },
 "nbformat": 4,
 "nbformat_minor": 1
}
